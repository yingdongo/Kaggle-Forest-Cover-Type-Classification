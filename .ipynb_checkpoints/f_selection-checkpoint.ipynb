{
 "cells": [
  {
   "cell_type": "code",
   "execution_count": null,
   "metadata": {
    "collapsed": true
   },
   "outputs": [],
   "source": [
    "from sklearn import ensemble\n",
    "import pandas as pd\n",
    "from tools import load_data\n",
    "from tools import cv_score\n",
    "from tools import split_data\n",
    "from feature_engineering import feature_engineering\n",
    "from data_preprocess import preprocess_data\n",
    "from matplotlib import pyplot as plt\n",
    "import numpy as np\n",
    "np.random.seed(123)\n",
    "\n",
    "train=load_data('train.csv')\n",
    "train= preprocess_data(train)"
   ]
  },
  {
   "cell_type": "markdown",
   "metadata": {},
   "source": [
    "Define a function to construct some new features. Some of them like Distanse_to_Hydrolody \n",
    "are meaningful and some of them are only created by intuition. Let's beginn to find out if they are contributing to our prediction."
   ]
  },
  {
   "cell_type": "code",
   "execution_count": null,
   "metadata": {
    "collapsed": true
   },
   "outputs": [],
   "source": [
    "def feature_engineering(data):\n",
    "    data['Aspect2']=data.Aspect.map(r)\n",
    "    \n",
    "    data['Ele_minus_VDtHyd'] = data.Elevation-data.Vertical_Distance_To_Hydrology\n",
    "         \n",
    "    data['Ele_plus_VDtHyd'] = data.Elevation+data.Vertical_Distance_To_Hydrology\n",
    "     \n",
    "    data['Distanse_to_Hydrolody'] = (data['Horizontal_Distance_To_Hydrology']**2+data['Vertical_Distance_To_Hydrology']**2)**0.5\n",
    "     \n",
    "    data['Hydro_plus_Fire'] = data['Horizontal_Distance_To_Hydrology']+data['Horizontal_Distance_To_Fire_Points']\n",
    "     \n",
    "    data['Hydro_minus_Fire'] = data['Horizontal_Distance_To_Hydrology']-data['Horizontal_Distance_To_Fire_Points']\n",
    "     \n",
    "    data['Hydro_plus_Road'] = data['Horizontal_Distance_To_Hydrology']+data['Horizontal_Distance_To_Roadways']\n",
    "     \n",
    "    data['Hydro_minus_Road'] = data['Horizontal_Distance_To_Hydrology']-data['Horizontal_Distance_To_Roadways']\n",
    "     \n",
    "    data['Fire_plus_Road'] = data['Horizontal_Distance_To_Fire_Points']+data['Horizontal_Distance_To_Roadways']\n",
    "     \n",
    "    data['Fire_minus_Road'] = data['Horizontal_Distance_To_Fire_Points']-data['Horizontal_Distance_To_Roadways']\n",
    "    \n",
    "    data['Soil']=0\n",
    "    for i in range(1,41):\n",
    "        data['Soil']=data['Soil']+i*data['Soil_Type'+str(i)]\n",
    "    \n",
    "    data['Wilderness_Area']=0\n",
    "    for i in range(1,5):\n",
    "         data['Wilderness_Area']=data['Wilderness_Area']+i*data['Wilderness_Area'+str(i)]\n",
    "    return data\n"
   ]
  },
  {
   "cell_type": "code",
   "execution_count": null,
   "metadata": {
    "collapsed": true
   },
   "outputs": [],
   "source": [
    "def create_clf():\n",
    "    forest=ensemble.RandomForestClassifier(n_estimators=100)\n",
    "    return forest\n",
    "    \n",
    "def feature_importances(X_train,y_train):\n",
    "    clf=create_clf()\n",
    "    clf.fit(X_train,y_train)\n",
    "    return clf.feature_importances_"
   ]
  },
  {
   "cell_type": "markdown",
   "metadata": {},
   "source": [
    "Create a random forest classifier to compute the feature importance ranking."
   ]
  },
  {
   "cell_type": "code",
   "execution_count": null,
   "metadata": {
    "collapsed": true
   },
   "outputs": [],
   "source": [
    "def plot_importances(importances, col_array):\n",
    "    # Calculate the feature ranking\n",
    "    indices = np.argsort(importances)[::-1]    \n",
    "    #Mean Feature Importance\n",
    "    print \"\\nMean Feature Importance %.6f\" %np.mean(importances)    \n",
    "    #Plot the feature importances of the forest\n",
    "    plt.figure(figsize=(20,8))\n",
    "    plt.title(\"Feature importances\")\n",
    "    plt.bar(range(len(importances)), importances[indices],\n",
    "            color=\"gr\", align=\"center\")\n",
    "    plt.xticks(range(len(importances)), col_array[indices], fontsize=14, rotation=90)\n",
    "    plt.xlim([-1, len(importances)])\n",
    "    plt.show()"
   ]
  },
  {
   "cell_type": "code",
   "execution_count": null,
   "metadata": {
    "collapsed": true
   },
   "outputs": [],
   "source": [
    "feature_cols= [col for col in train.columns if col not in train.columns[11:55] and col not in ['Cover_Type','Id']]\n",
    "X_train,y_train=split_data(train,feature_cols)\n",
    "importances=feature_importances(X_train,y_train)\n",
    "plot_importances(importances,X_train.columns)"
   ]
  }
 ],
 "metadata": {
  "kernelspec": {
   "display_name": "Python 2",
   "language": "python",
   "name": "python2"
  },
  "language_info": {
   "codemirror_mode": {
    "name": "ipython",
    "version": 2
   },
   "file_extension": ".py",
   "mimetype": "text/x-python",
   "name": "python",
   "nbconvert_exporter": "python",
   "pygments_lexer": "ipython2",
   "version": "2.7.9"
  }
 },
 "nbformat": 4,
 "nbformat_minor": 0
}
